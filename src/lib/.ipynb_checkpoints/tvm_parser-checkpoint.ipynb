{
 "cells": [
  {
   "cell_type": "code",
   "execution_count": 1,
   "metadata": {},
   "outputs": [],
   "source": [
    "from tsm_node_link_parser import hk1980_to_wgs84\n",
    "from pandas import DataFrame\n",
    "from io import StringIO\n",
    "import pandas as pd\n",
    "file_path = '../../data/tvm/CountData_0.csv'"
   ]
  },
  {
   "cell_type": "code",
   "execution_count": 2,
   "metadata": {},
   "outputs": [
    {
     "name": "stdout",
     "output_type": "stream",
     "text": [
      "Time of day (hour),LinkId,From Node Id,From Node X,From Node Y,To Node Id,To Node X,To Node Y,Volume (vehicle per hour)\n",
      "\n"
     ]
    }
   ],
   "source": [
    "with open(file_path) as input:\n",
    "    print(input.readline())\n",
    "    df = pd.read_csv(StringIO(input.read()), skiprows=1, header=None)  \n",
    "node_map = {}"
   ]
  },
  {
   "cell_type": "code",
   "execution_count": 3,
   "metadata": {},
   "outputs": [
    {
     "data": {
      "text/html": [
       "<div>\n",
       "<style>\n",
       "    .dataframe thead tr:only-child th {\n",
       "        text-align: right;\n",
       "    }\n",
       "\n",
       "    .dataframe thead th {\n",
       "        text-align: left;\n",
       "    }\n",
       "\n",
       "    .dataframe tbody tr th {\n",
       "        vertical-align: top;\n",
       "    }\n",
       "</style>\n",
       "<table border=\"1\" class=\"dataframe\">\n",
       "  <thead>\n",
       "    <tr style=\"text-align: right;\">\n",
       "      <th></th>\n",
       "      <th>0</th>\n",
       "      <th>1</th>\n",
       "      <th>2</th>\n",
       "      <th>3</th>\n",
       "      <th>4</th>\n",
       "      <th>5</th>\n",
       "      <th>6</th>\n",
       "      <th>7</th>\n",
       "      <th>8</th>\n",
       "    </tr>\n",
       "  </thead>\n",
       "  <tbody>\n",
       "    <tr>\n",
       "      <th>0</th>\n",
       "      <td>2</td>\n",
       "      <td>101090_101104</td>\n",
       "      <td>101090</td>\n",
       "      <td>32103.0</td>\n",
       "      <td>16435.0</td>\n",
       "      <td>101104</td>\n",
       "      <td>32135.0</td>\n",
       "      <td>16319.0</td>\n",
       "      <td>0.0</td>\n",
       "    </tr>\n",
       "    <tr>\n",
       "      <th>1</th>\n",
       "      <td>3</td>\n",
       "      <td>101090_101104</td>\n",
       "      <td>101090</td>\n",
       "      <td>32103.0</td>\n",
       "      <td>16435.0</td>\n",
       "      <td>101104</td>\n",
       "      <td>32135.0</td>\n",
       "      <td>16319.0</td>\n",
       "      <td>0.0</td>\n",
       "    </tr>\n",
       "    <tr>\n",
       "      <th>2</th>\n",
       "      <td>4</td>\n",
       "      <td>101090_101104</td>\n",
       "      <td>101090</td>\n",
       "      <td>32103.0</td>\n",
       "      <td>16435.0</td>\n",
       "      <td>101104</td>\n",
       "      <td>32135.0</td>\n",
       "      <td>16319.0</td>\n",
       "      <td>0.0</td>\n",
       "    </tr>\n",
       "    <tr>\n",
       "      <th>3</th>\n",
       "      <td>5</td>\n",
       "      <td>101090_101104</td>\n",
       "      <td>101090</td>\n",
       "      <td>32103.0</td>\n",
       "      <td>16435.0</td>\n",
       "      <td>101104</td>\n",
       "      <td>32135.0</td>\n",
       "      <td>16319.0</td>\n",
       "      <td>0.0</td>\n",
       "    </tr>\n",
       "    <tr>\n",
       "      <th>4</th>\n",
       "      <td>6</td>\n",
       "      <td>101090_101104</td>\n",
       "      <td>101090</td>\n",
       "      <td>32103.0</td>\n",
       "      <td>16435.0</td>\n",
       "      <td>101104</td>\n",
       "      <td>32135.0</td>\n",
       "      <td>16319.0</td>\n",
       "      <td>0.0</td>\n",
       "    </tr>\n",
       "  </tbody>\n",
       "</table>\n",
       "</div>"
      ],
      "text/plain": [
       "   0              1       2        3        4       5        6        7    8\n",
       "0  2  101090_101104  101090  32103.0  16435.0  101104  32135.0  16319.0  0.0\n",
       "1  3  101090_101104  101090  32103.0  16435.0  101104  32135.0  16319.0  0.0\n",
       "2  4  101090_101104  101090  32103.0  16435.0  101104  32135.0  16319.0  0.0\n",
       "3  5  101090_101104  101090  32103.0  16435.0  101104  32135.0  16319.0  0.0\n",
       "4  6  101090_101104  101090  32103.0  16435.0  101104  32135.0  16319.0  0.0"
      ]
     },
     "execution_count": 3,
     "metadata": {},
     "output_type": "execute_result"
    }
   ],
   "source": [
    "df.head()"
   ]
  },
  {
   "cell_type": "code",
   "execution_count": 4,
   "metadata": {
    "collapsed": true
   },
   "outputs": [],
   "source": [
    "df.columns = ['forecast_time', 'link_id','s_id','s_x','s_y', 't_id', 't_x', 't_y','volumn']"
   ]
  },
  {
   "cell_type": "code",
   "execution_count": 5,
   "metadata": {},
   "outputs": [
    {
     "data": {
      "text/html": [
       "<div>\n",
       "<style>\n",
       "    .dataframe thead tr:only-child th {\n",
       "        text-align: right;\n",
       "    }\n",
       "\n",
       "    .dataframe thead th {\n",
       "        text-align: left;\n",
       "    }\n",
       "\n",
       "    .dataframe tbody tr th {\n",
       "        vertical-align: top;\n",
       "    }\n",
       "</style>\n",
       "<table border=\"1\" class=\"dataframe\">\n",
       "  <thead>\n",
       "    <tr style=\"text-align: right;\">\n",
       "      <th></th>\n",
       "      <th>forecast_time</th>\n",
       "      <th>link_id</th>\n",
       "      <th>s_id</th>\n",
       "      <th>s_x</th>\n",
       "      <th>s_y</th>\n",
       "      <th>t_id</th>\n",
       "      <th>t_x</th>\n",
       "      <th>t_y</th>\n",
       "      <th>volumn</th>\n",
       "    </tr>\n",
       "  </thead>\n",
       "  <tbody>\n",
       "    <tr>\n",
       "      <th>0</th>\n",
       "      <td>2</td>\n",
       "      <td>101090_101104</td>\n",
       "      <td>101090</td>\n",
       "      <td>32103.0</td>\n",
       "      <td>16435.0</td>\n",
       "      <td>101104</td>\n",
       "      <td>32135.0</td>\n",
       "      <td>16319.0</td>\n",
       "      <td>0.0</td>\n",
       "    </tr>\n",
       "    <tr>\n",
       "      <th>1</th>\n",
       "      <td>3</td>\n",
       "      <td>101090_101104</td>\n",
       "      <td>101090</td>\n",
       "      <td>32103.0</td>\n",
       "      <td>16435.0</td>\n",
       "      <td>101104</td>\n",
       "      <td>32135.0</td>\n",
       "      <td>16319.0</td>\n",
       "      <td>0.0</td>\n",
       "    </tr>\n",
       "    <tr>\n",
       "      <th>2</th>\n",
       "      <td>4</td>\n",
       "      <td>101090_101104</td>\n",
       "      <td>101090</td>\n",
       "      <td>32103.0</td>\n",
       "      <td>16435.0</td>\n",
       "      <td>101104</td>\n",
       "      <td>32135.0</td>\n",
       "      <td>16319.0</td>\n",
       "      <td>0.0</td>\n",
       "    </tr>\n",
       "    <tr>\n",
       "      <th>3</th>\n",
       "      <td>5</td>\n",
       "      <td>101090_101104</td>\n",
       "      <td>101090</td>\n",
       "      <td>32103.0</td>\n",
       "      <td>16435.0</td>\n",
       "      <td>101104</td>\n",
       "      <td>32135.0</td>\n",
       "      <td>16319.0</td>\n",
       "      <td>0.0</td>\n",
       "    </tr>\n",
       "    <tr>\n",
       "      <th>4</th>\n",
       "      <td>6</td>\n",
       "      <td>101090_101104</td>\n",
       "      <td>101090</td>\n",
       "      <td>32103.0</td>\n",
       "      <td>16435.0</td>\n",
       "      <td>101104</td>\n",
       "      <td>32135.0</td>\n",
       "      <td>16319.0</td>\n",
       "      <td>0.0</td>\n",
       "    </tr>\n",
       "  </tbody>\n",
       "</table>\n",
       "</div>"
      ],
      "text/plain": [
       "   forecast_time        link_id    s_id      s_x      s_y    t_id      t_x  \\\n",
       "0              2  101090_101104  101090  32103.0  16435.0  101104  32135.0   \n",
       "1              3  101090_101104  101090  32103.0  16435.0  101104  32135.0   \n",
       "2              4  101090_101104  101090  32103.0  16435.0  101104  32135.0   \n",
       "3              5  101090_101104  101090  32103.0  16435.0  101104  32135.0   \n",
       "4              6  101090_101104  101090  32103.0  16435.0  101104  32135.0   \n",
       "\n",
       "       t_y  volumn  \n",
       "0  16319.0     0.0  \n",
       "1  16319.0     0.0  \n",
       "2  16319.0     0.0  \n",
       "3  16319.0     0.0  \n",
       "4  16319.0     0.0  "
      ]
     },
     "execution_count": 5,
     "metadata": {},
     "output_type": "execute_result"
    }
   ],
   "source": [
    "df.head()"
   ]
  },
  {
   "cell_type": "code",
   "execution_count": 6,
   "metadata": {},
   "outputs": [],
   "source": [
    "node_id_map = {}\n",
    "for index, r in df.iterrows():\n",
    "\n",
    "    if r['s_id'] not in node_id_map:\n",
    "        node_id_map[r['s_id']] = {\n",
    "            'x': r['s_x'],\n",
    "            'y': r['s_y']\n",
    "        }\n",
    "    else:\n",
    "        if r['s_x'] != node_id_map[r['s_id']]['x'] or r['s_y'] != node_id_map[r['s_id']]['y']:\n",
    "            print(r['s_x'],r['s_y'], node_id_map[r['s_id']])\n",
    "    if r['t_id'] not in node_id_map:\n",
    "        node_id_map[r['t_id']] = {\n",
    "            'x': r['t_x'],\n",
    "            'y': r['t_y']\n",
    "        }\n",
    "    else:\n",
    "        if r['t_x'] != node_id_map[r['t_id']]['x'] or r['t_y'] != node_id_map[r['t_id']]['y']:\n",
    "            print(r['t_x'],r['t_y'], node_id_map[r['t_id']])\n"
   ]
  },
  {
   "cell_type": "code",
   "execution_count": 7,
   "metadata": {},
   "outputs": [
    {
     "data": {
      "text/plain": [
       "283"
      ]
     },
     "execution_count": 7,
     "metadata": {},
     "output_type": "execute_result"
    }
   ],
   "source": [
    "len(node_id_map)\n"
   ]
  },
  {
   "cell_type": "code",
   "execution_count": 15,
   "metadata": {},
   "outputs": [
    {
     "name": "stdout",
     "output_type": "stream",
     "text": [
      "\n"
     ]
    }
   ],
   "source": [
    "source_nodes = df.groupby('s_id').max()[['s_x', 's_y']]\n",
    "target_nodes = df.groupby('t_id').max()[['t_x', 't_y']]\n",
    "source_nodes = source_nodes.reset_index()\n",
    "target_nodes = target_nodes.reset_index()\n",
    "print()"
   ]
  },
  {
   "cell_type": "code",
   "execution_count": 16,
   "metadata": {},
   "outputs": [],
   "source": [
    "source_nodes.columns = [['id','x','y']]\n",
    "target_nodes.columns = [['id','x','y']]"
   ]
  },
  {
   "cell_type": "code",
   "execution_count": 17,
   "metadata": {},
   "outputs": [],
   "source": [
    "merge_nodes = pd.concat([source_nodes,target_nodes])\n",
    "output_nodes = []\n"
   ]
  },
  {
   "cell_type": "code",
   "execution_count": 18,
   "metadata": {},
   "outputs": [
    {
     "name": "stdout",
     "output_type": "stream",
     "text": [
      "144 151\n",
      "295\n"
     ]
    }
   ],
   "source": [
    "print(len(source_nodes), len(target_nodes))\n",
    "print(len(merge_nodes))"
   ]
  },
  {
   "cell_type": "code",
   "execution_count": 19,
   "metadata": {},
   "outputs": [],
   "source": [
    "len(merge_nodes)\n",
    "for index, r in merge_nodes.iterrows():\n",
    "    if r['id'] not in node_id_map:\n",
    "        print('Not in')\n",
    "    else:\n",
    "        if r['x'] != node_id_map[r['id']]['x'] or r['y'] != node_id_map[r['id']]['y']:\n",
    "            print(r['x'],r['y'], node_id_map[r['id']])\n"
   ]
  },
  {
   "cell_type": "code",
   "execution_count": 20,
   "metadata": {},
   "outputs": [
    {
     "name": "stdout",
     "output_type": "stream",
     "text": [
      "id    101032\n",
      "x      30139\n",
      "y      15420\n",
      "Name: 0, dtype: object\n"
     ]
    }
   ],
   "source": [
    "for index, r in merge_nodes.iterrows():\n",
    "    hk80 = [r['x'], r['y']]\n",
    "    break"
   ]
  },
  {
   "cell_type": "code",
   "execution_count": null,
   "metadata": {
    "collapsed": true
   },
   "outputs": [],
   "source": []
  }
 ],
 "metadata": {
  "kernelspec": {
   "display_name": "Python 3",
   "language": "python",
   "name": "python3"
  },
  "language_info": {
   "codemirror_mode": {
    "name": "ipython",
    "version": 3
   },
   "file_extension": ".py",
   "mimetype": "text/x-python",
   "name": "python",
   "nbconvert_exporter": "python",
   "pygments_lexer": "ipython3",
   "version": "3.6.3"
  }
 },
 "nbformat": 4,
 "nbformat_minor": 2
}
